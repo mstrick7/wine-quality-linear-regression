{
 "cells": [
  {
   "cell_type": "code",
   "execution_count": 6,
   "metadata": {},
   "outputs": [
    {
     "name": "stdout",
     "output_type": "stream",
     "text": [
      "40.44622602410333\n",
      "[ 4.79622779e-02 -1.11840142e+00 -2.76227524e-01  2.04756941e-02\n",
      " -1.76890728e+00  5.34980397e-03 -3.44870744e-03 -3.67102234e+01\n",
      " -3.47701478e-01  9.29729469e-01  2.66278221e-01]\n",
      "mean squared error:0.3830719815814203\n",
      "r2:0.32664027269869644\n",
      "root mean squared error:0.6189280908000705\n"
     ]
    }
   ],
   "source": [
    "import csv\n",
    "import pandas as pd\n",
    "import numpy as np\n",
    "from sklearn.model_selection import train_test_split\n",
    "from sklearn.linear_model import LinearRegression\n",
    "from sklearn.metrics import mean_squared_error\n",
    "from sklearn.metrics import r2_score\n",
    "import matplotlib.pyplot as plt\n",
    "\n",
    "\n",
    "df = pd.read_csv(\"Desktop/machine learning practice/winequality-red.csv\", sep = \";\")\n",
    "\n",
    "array = df.values\n",
    "X = array[:,0:11]\n",
    "y = array[:,11]\n",
    "X_train, X_test, Y_train, Y_test = train_test_split(X, y, test_size=0.20, random_state=1)\n",
    "\n",
    "regressor = LinearRegression()  \n",
    "regressor.fit(X_train, Y_train)\n",
    "#To retrieve the intercept:\n",
    "print(regressor.intercept_)\n",
    "#For retrieving the slope:\n",
    "print(regressor.coef_)\n",
    "\n",
    "y_pred = regressor.predict(X_test)\n",
    "\n",
    "#df = pd.DataFrame({'Actual': Y_test, 'Predicted': y_pred})\n",
    "#print(df)\n",
    "\n",
    "\n",
    "print(\"mean squared error:\"+ str(mean_squared_error(Y_test,y_pred)))\n",
    "print(\"r2:\"+ str(r2_score(Y_test,y_pred)))\n",
    "print(\"root mean squared error:\"+ str(np.sqrt((mean_squared_error(Y_test,y_pred)))))\n",
    "\n",
    "\n"
   ]
  },
  {
   "cell_type": "code",
   "execution_count": null,
   "metadata": {},
   "outputs": [],
   "source": []
  }
 ],
 "metadata": {
  "kernelspec": {
   "display_name": "Python 3",
   "language": "python",
   "name": "python3"
  },
  "language_info": {
   "codemirror_mode": {
    "name": "ipython",
    "version": 3
   },
   "file_extension": ".py",
   "mimetype": "text/x-python",
   "name": "python",
   "nbconvert_exporter": "python",
   "pygments_lexer": "ipython3",
   "version": "3.7.4"
  }
 },
 "nbformat": 4,
 "nbformat_minor": 2
}
